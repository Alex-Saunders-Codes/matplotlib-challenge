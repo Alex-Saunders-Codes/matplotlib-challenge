{
 "cells": [
  {
   "cell_type": "markdown",
   "metadata": {},
   "source": [
    "## Observations and Insights "
   ]
  },
  {
   "cell_type": "markdown",
   "metadata": {},
   "source": [
    "#### Ramicane and Capomulin are the only drugs which show promise"
   ]
  },
  {
   "cell_type": "markdown",
   "metadata": {},
   "source": [
    "Through my work with box plots and and bar plots, there is clear evidence that ramicane and capomulin are having a strong affect. The line plots for these drugs indicate that tumor volume essentially never continues to grow, and often goes towards remission. In contrast, every other group continues to experience tumor growth. In fact, comparing the end volume of tumors between all other groups and the placebo, there is no statistical difference it would seem. "
   ]
  },
  {
   "cell_type": "markdown",
   "metadata": {},
   "source": [
    "#### Weight is highly correlated with the average size of the tumor"
   ]
  },
  {
   "cell_type": "markdown",
   "metadata": {},
   "source": [
    "Weight was shown to have an 84 percent pearson correlation for varying with tumor volume. This analysis was done averaging across the weights and volumes within individuals, so it is unlikely to simply reflect the increased volume of the tumor increasing weight."
   ]
  },
  {
   "cell_type": "markdown",
   "metadata": {
    "tags": []
   },
   "source": [
    "### Gender Distribution"
   ]
  },
  {
   "cell_type": "markdown",
   "metadata": {},
   "source": [
    "While at first survey, the gender distribution seems even, when we break it down between groups, it is less even. This is important to note because one of the two groups which has a gender imbalance is ramicane. It is important for us to understand whether there could be any difference in response to this drug between males and females. More analysis is required to establish whether there may be a gender effect."
   ]
  },
  {
   "cell_type": "markdown",
   "metadata": {},
   "source": [
    "### Statistical Analysis"
   ]
  },
  {
   "cell_type": "code",
   "execution_count": 27,
   "metadata": {},
   "outputs": [
    {
     "data": {
      "text/html": [
       "<div>\n",
       "<style scoped>\n",
       "    .dataframe tbody tr th:only-of-type {\n",
       "        vertical-align: middle;\n",
       "    }\n",
       "\n",
       "    .dataframe tbody tr th {\n",
       "        vertical-align: top;\n",
       "    }\n",
       "\n",
       "    .dataframe thead th {\n",
       "        text-align: right;\n",
       "    }\n",
       "</style>\n",
       "<table border=\"1\" class=\"dataframe\">\n",
       "  <thead>\n",
       "    <tr style=\"text-align: right;\">\n",
       "      <th></th>\n",
       "      <th>Mouse ID</th>\n",
       "      <th>Drug Regimen</th>\n",
       "      <th>Sex</th>\n",
       "      <th>Age_months</th>\n",
       "      <th>Weight (g)</th>\n",
       "      <th>Timepoint</th>\n",
       "      <th>Tumor Volume (mm3)</th>\n",
       "      <th>Metastatic Sites</th>\n",
       "    </tr>\n",
       "  </thead>\n",
       "  <tbody>\n",
       "    <tr>\n",
       "      <th>0</th>\n",
       "      <td>k403</td>\n",
       "      <td>Ramicane</td>\n",
       "      <td>Male</td>\n",
       "      <td>21</td>\n",
       "      <td>16</td>\n",
       "      <td>0</td>\n",
       "      <td>45.000000</td>\n",
       "      <td>0</td>\n",
       "    </tr>\n",
       "    <tr>\n",
       "      <th>1</th>\n",
       "      <td>k403</td>\n",
       "      <td>Ramicane</td>\n",
       "      <td>Male</td>\n",
       "      <td>21</td>\n",
       "      <td>16</td>\n",
       "      <td>5</td>\n",
       "      <td>38.825898</td>\n",
       "      <td>0</td>\n",
       "    </tr>\n",
       "    <tr>\n",
       "      <th>2</th>\n",
       "      <td>k403</td>\n",
       "      <td>Ramicane</td>\n",
       "      <td>Male</td>\n",
       "      <td>21</td>\n",
       "      <td>16</td>\n",
       "      <td>10</td>\n",
       "      <td>35.014271</td>\n",
       "      <td>1</td>\n",
       "    </tr>\n",
       "    <tr>\n",
       "      <th>3</th>\n",
       "      <td>k403</td>\n",
       "      <td>Ramicane</td>\n",
       "      <td>Male</td>\n",
       "      <td>21</td>\n",
       "      <td>16</td>\n",
       "      <td>15</td>\n",
       "      <td>34.223992</td>\n",
       "      <td>1</td>\n",
       "    </tr>\n",
       "    <tr>\n",
       "      <th>4</th>\n",
       "      <td>k403</td>\n",
       "      <td>Ramicane</td>\n",
       "      <td>Male</td>\n",
       "      <td>21</td>\n",
       "      <td>16</td>\n",
       "      <td>20</td>\n",
       "      <td>32.997729</td>\n",
       "      <td>1</td>\n",
       "    </tr>\n",
       "  </tbody>\n",
       "</table>\n",
       "</div>"
      ],
      "text/plain": [
       "  Mouse ID Drug Regimen   Sex  Age_months  Weight (g)  Timepoint  \\\n",
       "0     k403     Ramicane  Male          21          16          0   \n",
       "1     k403     Ramicane  Male          21          16          5   \n",
       "2     k403     Ramicane  Male          21          16         10   \n",
       "3     k403     Ramicane  Male          21          16         15   \n",
       "4     k403     Ramicane  Male          21          16         20   \n",
       "\n",
       "   Tumor Volume (mm3)  Metastatic Sites  \n",
       "0           45.000000                 0  \n",
       "1           38.825898                 0  \n",
       "2           35.014271                 1  \n",
       "3           34.223992                 1  \n",
       "4           32.997729                 1  "
      ]
     },
     "execution_count": 27,
     "metadata": {},
     "output_type": "execute_result"
    }
   ],
   "source": [
    "# Dependencies and Setup\n",
    "import matplotlib.pyplot as plt\n",
    "import matplotlib.cm as cm\n",
    "import matplotlib.colors\n",
    "import pandas as pd\n",
    "import numpy as np\n",
    "import scipy.stats as st\n",
    "\n",
    "# Study data files\n",
    "mouse_metadata_path = \"data/Mouse_metadata.csv\"\n",
    "study_results_path = \"data/Study_results.csv\"\n",
    "\n",
    "# Read the mouse data and the study results\n",
    "mouse_metadata = pd.read_csv(mouse_metadata_path)\n",
    "study_results = pd.read_csv(study_results_path)\n",
    "\n",
    "# Combine the data into a single dataset\n",
    "combine = mouse_metadata.merge(study_results, on = \"Mouse ID\", how = 'outer')\n",
    "# Display the data table for preview\n",
    "combine.head()"
   ]
  },
  {
   "cell_type": "code",
   "execution_count": 2,
   "metadata": {},
   "outputs": [
    {
     "data": {
      "text/plain": [
       "249"
      ]
     },
     "execution_count": 2,
     "metadata": {},
     "output_type": "execute_result"
    }
   ],
   "source": [
    "# Checking the number of mice.\n",
    "number_of_mice = len(combine['Mouse ID'].value_counts())\n",
    "number_of_mice"
   ]
  },
  {
   "cell_type": "code",
   "execution_count": 3,
   "metadata": {},
   "outputs": [
    {
     "data": {
      "text/html": [
       "<div>\n",
       "<style scoped>\n",
       "    .dataframe tbody tr th:only-of-type {\n",
       "        vertical-align: middle;\n",
       "    }\n",
       "\n",
       "    .dataframe tbody tr th {\n",
       "        vertical-align: top;\n",
       "    }\n",
       "\n",
       "    .dataframe thead th {\n",
       "        text-align: right;\n",
       "    }\n",
       "</style>\n",
       "<table border=\"1\" class=\"dataframe\">\n",
       "  <thead>\n",
       "    <tr style=\"text-align: right;\">\n",
       "      <th></th>\n",
       "      <th>Mouse ID</th>\n",
       "      <th>Timepoint</th>\n",
       "    </tr>\n",
       "    <tr>\n",
       "      <th>Timepoint</th>\n",
       "      <th></th>\n",
       "      <th></th>\n",
       "    </tr>\n",
       "  </thead>\n",
       "  <tbody>\n",
       "    <tr>\n",
       "      <th>0</th>\n",
       "      <td>g989</td>\n",
       "      <td>2</td>\n",
       "    </tr>\n",
       "    <tr>\n",
       "      <th>5</th>\n",
       "      <td>g989</td>\n",
       "      <td>2</td>\n",
       "    </tr>\n",
       "    <tr>\n",
       "      <th>10</th>\n",
       "      <td>g989</td>\n",
       "      <td>2</td>\n",
       "    </tr>\n",
       "    <tr>\n",
       "      <th>15</th>\n",
       "      <td>g989</td>\n",
       "      <td>2</td>\n",
       "    </tr>\n",
       "    <tr>\n",
       "      <th>20</th>\n",
       "      <td>g989</td>\n",
       "      <td>2</td>\n",
       "    </tr>\n",
       "  </tbody>\n",
       "</table>\n",
       "</div>"
      ],
      "text/plain": [
       "          Mouse ID  Timepoint\n",
       "Timepoint                    \n",
       "0             g989          2\n",
       "5             g989          2\n",
       "10            g989          2\n",
       "15            g989          2\n",
       "20            g989          2"
      ]
     },
     "execution_count": 3,
     "metadata": {},
     "output_type": "execute_result"
    }
   ],
   "source": [
    "# Getting the duplicate mice by ID number that shows up for Mouse ID and Timepoint. \n",
    "dups_check = combine.groupby(['Mouse ID', 'Timepoint'])['Timepoint'].count().reset_index('Mouse ID')\n",
    "dups = dups_check.loc[dups_check['Timepoint'] > 1]\n",
    "dups"
   ]
  },
  {
   "cell_type": "code",
   "execution_count": 4,
   "metadata": {},
   "outputs": [
    {
     "data": {
      "text/html": [
       "<div>\n",
       "<style scoped>\n",
       "    .dataframe tbody tr th:only-of-type {\n",
       "        vertical-align: middle;\n",
       "    }\n",
       "\n",
       "    .dataframe tbody tr th {\n",
       "        vertical-align: top;\n",
       "    }\n",
       "\n",
       "    .dataframe thead th {\n",
       "        text-align: right;\n",
       "    }\n",
       "</style>\n",
       "<table border=\"1\" class=\"dataframe\">\n",
       "  <thead>\n",
       "    <tr style=\"text-align: right;\">\n",
       "      <th></th>\n",
       "      <th>Drug Regimen</th>\n",
       "      <th>Sex</th>\n",
       "      <th>Age_months</th>\n",
       "      <th>Weight (g)</th>\n",
       "      <th>Timepoint</th>\n",
       "      <th>Tumor Volume (mm3)</th>\n",
       "      <th>Metastatic Sites</th>\n",
       "    </tr>\n",
       "    <tr>\n",
       "      <th>Mouse ID</th>\n",
       "      <th></th>\n",
       "      <th></th>\n",
       "      <th></th>\n",
       "      <th></th>\n",
       "      <th></th>\n",
       "      <th></th>\n",
       "      <th></th>\n",
       "    </tr>\n",
       "  </thead>\n",
       "  <tbody>\n",
       "    <tr>\n",
       "      <th>g989</th>\n",
       "      <td>Propriva</td>\n",
       "      <td>Female</td>\n",
       "      <td>21</td>\n",
       "      <td>26</td>\n",
       "      <td>0</td>\n",
       "      <td>45.000000</td>\n",
       "      <td>0</td>\n",
       "    </tr>\n",
       "    <tr>\n",
       "      <th>g989</th>\n",
       "      <td>Propriva</td>\n",
       "      <td>Female</td>\n",
       "      <td>21</td>\n",
       "      <td>26</td>\n",
       "      <td>0</td>\n",
       "      <td>45.000000</td>\n",
       "      <td>0</td>\n",
       "    </tr>\n",
       "    <tr>\n",
       "      <th>g989</th>\n",
       "      <td>Propriva</td>\n",
       "      <td>Female</td>\n",
       "      <td>21</td>\n",
       "      <td>26</td>\n",
       "      <td>5</td>\n",
       "      <td>48.786801</td>\n",
       "      <td>0</td>\n",
       "    </tr>\n",
       "    <tr>\n",
       "      <th>g989</th>\n",
       "      <td>Propriva</td>\n",
       "      <td>Female</td>\n",
       "      <td>21</td>\n",
       "      <td>26</td>\n",
       "      <td>5</td>\n",
       "      <td>47.570392</td>\n",
       "      <td>0</td>\n",
       "    </tr>\n",
       "    <tr>\n",
       "      <th>g989</th>\n",
       "      <td>Propriva</td>\n",
       "      <td>Female</td>\n",
       "      <td>21</td>\n",
       "      <td>26</td>\n",
       "      <td>10</td>\n",
       "      <td>51.745156</td>\n",
       "      <td>0</td>\n",
       "    </tr>\n",
       "    <tr>\n",
       "      <th>g989</th>\n",
       "      <td>Propriva</td>\n",
       "      <td>Female</td>\n",
       "      <td>21</td>\n",
       "      <td>26</td>\n",
       "      <td>10</td>\n",
       "      <td>49.880528</td>\n",
       "      <td>0</td>\n",
       "    </tr>\n",
       "    <tr>\n",
       "      <th>g989</th>\n",
       "      <td>Propriva</td>\n",
       "      <td>Female</td>\n",
       "      <td>21</td>\n",
       "      <td>26</td>\n",
       "      <td>15</td>\n",
       "      <td>51.325852</td>\n",
       "      <td>1</td>\n",
       "    </tr>\n",
       "    <tr>\n",
       "      <th>g989</th>\n",
       "      <td>Propriva</td>\n",
       "      <td>Female</td>\n",
       "      <td>21</td>\n",
       "      <td>26</td>\n",
       "      <td>15</td>\n",
       "      <td>53.442020</td>\n",
       "      <td>0</td>\n",
       "    </tr>\n",
       "    <tr>\n",
       "      <th>g989</th>\n",
       "      <td>Propriva</td>\n",
       "      <td>Female</td>\n",
       "      <td>21</td>\n",
       "      <td>26</td>\n",
       "      <td>20</td>\n",
       "      <td>55.326122</td>\n",
       "      <td>1</td>\n",
       "    </tr>\n",
       "    <tr>\n",
       "      <th>g989</th>\n",
       "      <td>Propriva</td>\n",
       "      <td>Female</td>\n",
       "      <td>21</td>\n",
       "      <td>26</td>\n",
       "      <td>20</td>\n",
       "      <td>54.657650</td>\n",
       "      <td>1</td>\n",
       "    </tr>\n",
       "    <tr>\n",
       "      <th>g989</th>\n",
       "      <td>Propriva</td>\n",
       "      <td>Female</td>\n",
       "      <td>21</td>\n",
       "      <td>26</td>\n",
       "      <td>25</td>\n",
       "      <td>56.045564</td>\n",
       "      <td>1</td>\n",
       "    </tr>\n",
       "    <tr>\n",
       "      <th>g989</th>\n",
       "      <td>Propriva</td>\n",
       "      <td>Female</td>\n",
       "      <td>21</td>\n",
       "      <td>26</td>\n",
       "      <td>30</td>\n",
       "      <td>59.082294</td>\n",
       "      <td>1</td>\n",
       "    </tr>\n",
       "    <tr>\n",
       "      <th>g989</th>\n",
       "      <td>Propriva</td>\n",
       "      <td>Female</td>\n",
       "      <td>21</td>\n",
       "      <td>26</td>\n",
       "      <td>35</td>\n",
       "      <td>62.570880</td>\n",
       "      <td>2</td>\n",
       "    </tr>\n",
       "  </tbody>\n",
       "</table>\n",
       "</div>"
      ],
      "text/plain": [
       "         Drug Regimen     Sex  Age_months  Weight (g)  Timepoint  \\\n",
       "Mouse ID                                                           \n",
       "g989         Propriva  Female          21          26          0   \n",
       "g989         Propriva  Female          21          26          0   \n",
       "g989         Propriva  Female          21          26          5   \n",
       "g989         Propriva  Female          21          26          5   \n",
       "g989         Propriva  Female          21          26         10   \n",
       "g989         Propriva  Female          21          26         10   \n",
       "g989         Propriva  Female          21          26         15   \n",
       "g989         Propriva  Female          21          26         15   \n",
       "g989         Propriva  Female          21          26         20   \n",
       "g989         Propriva  Female          21          26         20   \n",
       "g989         Propriva  Female          21          26         25   \n",
       "g989         Propriva  Female          21          26         30   \n",
       "g989         Propriva  Female          21          26         35   \n",
       "\n",
       "          Tumor Volume (mm3)  Metastatic Sites  \n",
       "Mouse ID                                        \n",
       "g989               45.000000                 0  \n",
       "g989               45.000000                 0  \n",
       "g989               48.786801                 0  \n",
       "g989               47.570392                 0  \n",
       "g989               51.745156                 0  \n",
       "g989               49.880528                 0  \n",
       "g989               51.325852                 1  \n",
       "g989               53.442020                 0  \n",
       "g989               55.326122                 1  \n",
       "g989               54.657650                 1  \n",
       "g989               56.045564                 1  \n",
       "g989               59.082294                 1  \n",
       "g989               62.570880                 2  "
      ]
     },
     "execution_count": 4,
     "metadata": {},
     "output_type": "execute_result"
    }
   ],
   "source": [
    "# Optional: Get all the data for the duplicate mouse ID. \n",
    "combine.set_index('Mouse ID').loc['g989']\n"
   ]
  },
  {
   "cell_type": "code",
   "execution_count": 5,
   "metadata": {},
   "outputs": [],
   "source": [
    "# Create a clean DataFrame by dropping the duplicate mouse by its ID.\n",
    "combine = combine.set_index('Mouse ID').drop('g989').reset_index()"
   ]
  },
  {
   "cell_type": "code",
   "execution_count": 6,
   "metadata": {},
   "outputs": [
    {
     "data": {
      "text/plain": [
       "248"
      ]
     },
     "execution_count": 6,
     "metadata": {},
     "output_type": "execute_result"
    }
   ],
   "source": [
    "# Checking the number of mice in the clean DataFrame.\n",
    "len(combine['Mouse ID'].value_counts())"
   ]
  },
  {
   "cell_type": "markdown",
   "metadata": {},
   "source": [
    "## Summary Statistics"
   ]
  },
  {
   "cell_type": "code",
   "execution_count": 7,
   "metadata": {},
   "outputs": [
    {
     "data": {
      "text/html": [
       "<div>\n",
       "<style scoped>\n",
       "    .dataframe tbody tr th:only-of-type {\n",
       "        vertical-align: middle;\n",
       "    }\n",
       "\n",
       "    .dataframe tbody tr th {\n",
       "        vertical-align: top;\n",
       "    }\n",
       "\n",
       "    .dataframe thead th {\n",
       "        text-align: right;\n",
       "    }\n",
       "</style>\n",
       "<table border=\"1\" class=\"dataframe\">\n",
       "  <thead>\n",
       "    <tr style=\"text-align: right;\">\n",
       "      <th></th>\n",
       "      <th>Mean</th>\n",
       "      <th>Median</th>\n",
       "      <th>Variance</th>\n",
       "      <th>Standard Deviation</th>\n",
       "      <th>Standard Error</th>\n",
       "    </tr>\n",
       "    <tr>\n",
       "      <th>Drug Regimen</th>\n",
       "      <th></th>\n",
       "      <th></th>\n",
       "      <th></th>\n",
       "      <th></th>\n",
       "      <th></th>\n",
       "    </tr>\n",
       "  </thead>\n",
       "  <tbody>\n",
       "    <tr>\n",
       "      <th>Capomulin</th>\n",
       "      <td>40.68</td>\n",
       "      <td>41.56</td>\n",
       "      <td>24.95</td>\n",
       "      <td>4.99</td>\n",
       "      <td>0.33</td>\n",
       "    </tr>\n",
       "    <tr>\n",
       "      <th>Ceftamin</th>\n",
       "      <td>52.59</td>\n",
       "      <td>51.78</td>\n",
       "      <td>39.29</td>\n",
       "      <td>6.27</td>\n",
       "      <td>0.47</td>\n",
       "    </tr>\n",
       "    <tr>\n",
       "      <th>Infubinol</th>\n",
       "      <td>52.88</td>\n",
       "      <td>51.82</td>\n",
       "      <td>43.13</td>\n",
       "      <td>6.57</td>\n",
       "      <td>0.49</td>\n",
       "    </tr>\n",
       "    <tr>\n",
       "      <th>Ketapril</th>\n",
       "      <td>55.24</td>\n",
       "      <td>53.70</td>\n",
       "      <td>68.55</td>\n",
       "      <td>8.28</td>\n",
       "      <td>0.60</td>\n",
       "    </tr>\n",
       "    <tr>\n",
       "      <th>Naftisol</th>\n",
       "      <td>54.33</td>\n",
       "      <td>52.51</td>\n",
       "      <td>66.17</td>\n",
       "      <td>8.13</td>\n",
       "      <td>0.60</td>\n",
       "    </tr>\n",
       "    <tr>\n",
       "      <th>Placebo</th>\n",
       "      <td>54.03</td>\n",
       "      <td>52.29</td>\n",
       "      <td>61.17</td>\n",
       "      <td>7.82</td>\n",
       "      <td>0.58</td>\n",
       "    </tr>\n",
       "    <tr>\n",
       "      <th>Propriva</th>\n",
       "      <td>52.32</td>\n",
       "      <td>50.45</td>\n",
       "      <td>43.85</td>\n",
       "      <td>6.62</td>\n",
       "      <td>0.54</td>\n",
       "    </tr>\n",
       "    <tr>\n",
       "      <th>Ramicane</th>\n",
       "      <td>40.22</td>\n",
       "      <td>40.67</td>\n",
       "      <td>23.49</td>\n",
       "      <td>4.85</td>\n",
       "      <td>0.32</td>\n",
       "    </tr>\n",
       "    <tr>\n",
       "      <th>Stelasyn</th>\n",
       "      <td>54.23</td>\n",
       "      <td>52.43</td>\n",
       "      <td>59.45</td>\n",
       "      <td>7.71</td>\n",
       "      <td>0.57</td>\n",
       "    </tr>\n",
       "    <tr>\n",
       "      <th>Zoniferol</th>\n",
       "      <td>53.24</td>\n",
       "      <td>51.82</td>\n",
       "      <td>48.53</td>\n",
       "      <td>6.97</td>\n",
       "      <td>0.52</td>\n",
       "    </tr>\n",
       "  </tbody>\n",
       "</table>\n",
       "</div>"
      ],
      "text/plain": [
       "               Mean  Median  Variance  Standard Deviation  Standard Error\n",
       "Drug Regimen                                                             \n",
       "Capomulin     40.68   41.56     24.95                4.99            0.33\n",
       "Ceftamin      52.59   51.78     39.29                6.27            0.47\n",
       "Infubinol     52.88   51.82     43.13                6.57            0.49\n",
       "Ketapril      55.24   53.70     68.55                8.28            0.60\n",
       "Naftisol      54.33   52.51     66.17                8.13            0.60\n",
       "Placebo       54.03   52.29     61.17                7.82            0.58\n",
       "Propriva      52.32   50.45     43.85                6.62            0.54\n",
       "Ramicane      40.22   40.67     23.49                4.85            0.32\n",
       "Stelasyn      54.23   52.43     59.45                7.71            0.57\n",
       "Zoniferol     53.24   51.82     48.53                6.97            0.52"
      ]
     },
     "execution_count": 7,
     "metadata": {},
     "output_type": "execute_result"
    }
   ],
   "source": [
    "# Generate a summary statistics table of mean, median, variance, standard deviation, and SEM of the tumor volume for each regimen\n",
    "\n",
    "# Use groupby and summary statistical methods to calculate the following properties of each drug regimen: \n",
    "# mean, median, variance, standard deviation, and SEM of the tumor volume. \n",
    "# Assemble the resulting series into a single summary dataframe.\n",
    "grouping = combine.groupby('Drug Regimen')['Tumor Volume (mm3)']\n",
    "group_summary_stats = pd.DataFrame({\n",
    "    \"Mean\":  round(grouping.mean(), 2),\n",
    "    \"Median\":  round(grouping.median(), 2),\n",
    "    \"Variance\":  round(grouping.var(), 2),\n",
    "    \"Standard Deviation\":  round(grouping.std(), 2),\n",
    "    \"Standard Error\": round(grouping.sem(ddof=1), 2)\n",
    "}\n",
    ")  \n",
    "group_summary_stats"
   ]
  },
  {
   "cell_type": "code",
   "execution_count": 8,
   "metadata": {},
   "outputs": [
    {
     "data": {
      "text/html": [
       "<div>\n",
       "<style scoped>\n",
       "    .dataframe tbody tr th:only-of-type {\n",
       "        vertical-align: middle;\n",
       "    }\n",
       "\n",
       "    .dataframe tbody tr th {\n",
       "        vertical-align: top;\n",
       "    }\n",
       "\n",
       "    .dataframe thead th {\n",
       "        text-align: right;\n",
       "    }\n",
       "</style>\n",
       "<table border=\"1\" class=\"dataframe\">\n",
       "  <thead>\n",
       "    <tr style=\"text-align: right;\">\n",
       "      <th></th>\n",
       "      <th>mean</th>\n",
       "      <th>median</th>\n",
       "      <th>var</th>\n",
       "      <th>std</th>\n",
       "      <th>sem</th>\n",
       "    </tr>\n",
       "    <tr>\n",
       "      <th>Drug Regimen</th>\n",
       "      <th></th>\n",
       "      <th></th>\n",
       "      <th></th>\n",
       "      <th></th>\n",
       "      <th></th>\n",
       "    </tr>\n",
       "  </thead>\n",
       "  <tbody>\n",
       "    <tr>\n",
       "      <th>Capomulin</th>\n",
       "      <td>40.68</td>\n",
       "      <td>41.56</td>\n",
       "      <td>24.95</td>\n",
       "      <td>4.99</td>\n",
       "      <td>0.33</td>\n",
       "    </tr>\n",
       "    <tr>\n",
       "      <th>Ceftamin</th>\n",
       "      <td>52.59</td>\n",
       "      <td>51.78</td>\n",
       "      <td>39.29</td>\n",
       "      <td>6.27</td>\n",
       "      <td>0.47</td>\n",
       "    </tr>\n",
       "    <tr>\n",
       "      <th>Infubinol</th>\n",
       "      <td>52.88</td>\n",
       "      <td>51.82</td>\n",
       "      <td>43.13</td>\n",
       "      <td>6.57</td>\n",
       "      <td>0.49</td>\n",
       "    </tr>\n",
       "    <tr>\n",
       "      <th>Ketapril</th>\n",
       "      <td>55.24</td>\n",
       "      <td>53.70</td>\n",
       "      <td>68.55</td>\n",
       "      <td>8.28</td>\n",
       "      <td>0.60</td>\n",
       "    </tr>\n",
       "    <tr>\n",
       "      <th>Naftisol</th>\n",
       "      <td>54.33</td>\n",
       "      <td>52.51</td>\n",
       "      <td>66.17</td>\n",
       "      <td>8.13</td>\n",
       "      <td>0.60</td>\n",
       "    </tr>\n",
       "    <tr>\n",
       "      <th>Placebo</th>\n",
       "      <td>54.03</td>\n",
       "      <td>52.29</td>\n",
       "      <td>61.17</td>\n",
       "      <td>7.82</td>\n",
       "      <td>0.58</td>\n",
       "    </tr>\n",
       "    <tr>\n",
       "      <th>Propriva</th>\n",
       "      <td>52.32</td>\n",
       "      <td>50.45</td>\n",
       "      <td>43.85</td>\n",
       "      <td>6.62</td>\n",
       "      <td>0.54</td>\n",
       "    </tr>\n",
       "    <tr>\n",
       "      <th>Ramicane</th>\n",
       "      <td>40.22</td>\n",
       "      <td>40.67</td>\n",
       "      <td>23.49</td>\n",
       "      <td>4.85</td>\n",
       "      <td>0.32</td>\n",
       "    </tr>\n",
       "    <tr>\n",
       "      <th>Stelasyn</th>\n",
       "      <td>54.23</td>\n",
       "      <td>52.43</td>\n",
       "      <td>59.45</td>\n",
       "      <td>7.71</td>\n",
       "      <td>0.57</td>\n",
       "    </tr>\n",
       "    <tr>\n",
       "      <th>Zoniferol</th>\n",
       "      <td>53.24</td>\n",
       "      <td>51.82</td>\n",
       "      <td>48.53</td>\n",
       "      <td>6.97</td>\n",
       "      <td>0.52</td>\n",
       "    </tr>\n",
       "  </tbody>\n",
       "</table>\n",
       "</div>"
      ],
      "text/plain": [
       "               mean  median    var   std   sem\n",
       "Drug Regimen                                  \n",
       "Capomulin     40.68   41.56  24.95  4.99  0.33\n",
       "Ceftamin      52.59   51.78  39.29  6.27  0.47\n",
       "Infubinol     52.88   51.82  43.13  6.57  0.49\n",
       "Ketapril      55.24   53.70  68.55  8.28  0.60\n",
       "Naftisol      54.33   52.51  66.17  8.13  0.60\n",
       "Placebo       54.03   52.29  61.17  7.82  0.58\n",
       "Propriva      52.32   50.45  43.85  6.62  0.54\n",
       "Ramicane      40.22   40.67  23.49  4.85  0.32\n",
       "Stelasyn      54.23   52.43  59.45  7.71  0.57\n",
       "Zoniferol     53.24   51.82  48.53  6.97  0.52"
      ]
     },
     "execution_count": 8,
     "metadata": {},
     "output_type": "execute_result"
    }
   ],
   "source": [
    "# Generate a summary statistics table of mean, median, variance, standard deviation, and SEM of the tumor volume for each regimen\n",
    "\n",
    "# Using the aggregation method, produce the same summary statistics in a single line\n",
    "aggregate_summary = combine.groupby('Drug Regimen')['Tumor Volume (mm3)'].aggregate(['mean', 'median', 'var', 'std', 'sem'], axis='columns').apply(lambda x: round(x, 2))\n",
    "aggregate_summary"
   ]
  },
  {
   "cell_type": "markdown",
   "metadata": {},
   "source": [
    "## Bar and Pie Charts"
   ]
  },
  {
   "cell_type": "code",
   "execution_count": 9,
   "metadata": {},
   "outputs": [],
   "source": [
    "#Get an Array that has the total count of mice in each treatment condition.\n",
    "group_size = combine.drop_duplicates('Mouse ID').groupby('Drug Regimen')['Mouse ID'].count()"
   ]
  },
  {
   "cell_type": "code",
   "execution_count": 10,
   "metadata": {},
   "outputs": [
    {
     "data": {
      "text/plain": [
       "<AxesSubplot:title={'center':'Number of Mice per Regimen'}, ylabel='Drug Regimen'>"
      ]
     },
     "execution_count": 10,
     "metadata": {},
     "output_type": "execute_result"
    },
    {
     "data": {
      "image/png": "[encoded data removed]",
      "text/plain": [
       "<Figure size 432x288 with 1 Axes>"
      ]
     },
     "metadata": {
      "needs_background": "light"
     },
     "output_type": "display_data"
    }
   ],
   "source": [
    "# Generate a bar plot showing the total number of unique mice tested on each drug regimen using pandas.\n",
    "#I decided to make this a horzontal graph to better display the names of the drugs.\n",
    "#I opted against using the rot command because this was still easier to read.\n",
    "group_size.plot(kind = 'barh', title='Number of Mice per Regimen', ylabel = 'Number of Mice')"
   ]
  },
  {
   "cell_type": "code",
   "execution_count": 11,
   "metadata": {},
   "outputs": [
    {
     "data": {
      "image/png": "[encoded data removed]",
      "text/plain": [
       "<Figure size 432x288 with 1 Axes>"
      ]
     },
     "metadata": {
      "needs_background": "light"
     },
     "output_type": "display_data"
    }
   ],
   "source": [
    "# Generate a bar plot showing the total number of unique mice tested on each drug regimen using pyplot.\n",
    "gsize_plot, ax = plt.subplots()\n",
    "ax.set_ylabel('Drug Regimen')\n",
    "ax.set_xlabel('Number of Mice')\n",
    "ax.set_xlim(0, 27)\n",
    "#I make the graph equal to hbar rather than simply setting it so that I can pass those bars to the bar_label method below.\n",
    "hbars = ax.barh(group_size.index, group_size, align = 'center')\n",
    "#bar_labels is a method from matplotlib 3.4+, and will only work if matplotlib has its most recent version.\n",
    "#It is only in this because it doesn't seem to be supported as a kwarg in pandas.\n",
    "ax.bar_label(hbars, padding=3)\n",
    "plt.show()"
   ]
  },
  {
   "cell_type": "code",
   "execution_count": 12,
   "metadata": {},
   "outputs": [],
   "source": [
    "#Create a object with the sex ratios to graph off of in the following example.\n",
    "male_female = combine.groupby('Sex')['Sex'].count()"
   ]
  },
  {
   "cell_type": "code",
   "execution_count": 13,
   "metadata": {},
   "outputs": [
    {
     "data": {
      "text/plain": [
       "<AxesSubplot:title={'center':'Sex of Subjects'}, ylabel='Sex'>"
      ]
     },
     "execution_count": 13,
     "metadata": {},
     "output_type": "execute_result"
    },
    {
     "data": {
      "image/png": "[encoded data removed]",
      "text/plain": [
       "<Figure size 432x288 with 1 Axes>"
      ]
     },
     "metadata": {},
     "output_type": "display_data"
    }
   ],
   "source": [
    "# Generate a pie plot showing the distribution of female versus male mice using pandas\n",
    "#I pass autopct as a kwarg from pd.plot into matplotlib.\n",
    "male_female.plot(kind='pie', title=\"Sex of Subjects\", autopct = '%1.f%%', )"
   ]
  },
  {
   "cell_type": "code",
   "execution_count": 14,
   "metadata": {},
   "outputs": [
    {
     "data": {
      "image/png": "[encoded data removed]",
      "text/plain": [
       "<Figure size 432x288 with 1 Axes>"
      ]
     },
     "metadata": {},
     "output_type": "display_data"
    }
   ],
   "source": [
    "# Generate a pie plot showing the distribution of female versus male mice using pyplot\n",
    "mf_pie, mf_ax = plt.subplots() \n",
    "mf_ax.pie(male_female, autopct='%1.f%%', labels=male_female.index)\n",
    "plt.title('Sex of Subjects')\n",
    "plt.show()"
   ]
  },
  {
   "cell_type": "code",
   "execution_count": 15,
   "metadata": {},
   "outputs": [],
   "source": [
    "#Finally, I am going to do an additional chart showing the sex of subjects broken into groups. \n",
    "mf_treatment = combine.drop_duplicates('Mouse ID').groupby(['Sex', 'Drug Regimen'])['Sex'].count()"
   ]
  },
  {
   "cell_type": "code",
   "execution_count": 16,
   "metadata": {},
   "outputs": [
    {
     "data": {
      "image/png": "[encoded data removed]",
      "text/plain": [
       "<Figure size 432x288 with 1 Axes>"
      ]
     },
     "metadata": {
      "needs_background": "light"
     },
     "output_type": "display_data"
    }
   ],
   "source": [
    "#Stacked bar chart in matplotlib\n",
    "stacked_plt, stacked_ax = plt.subplots()\n",
    "stacked_ax.set_xlim(0, 27)\n",
    "male_bars = stacked_ax.barh(mf_treatment.loc['Male'].index, mf_treatment.loc['Male'], label='Male', color='forestgreen')\n",
    "female_bars  = stacked_ax.barh(mf_treatment.loc['Female'].index, mf_treatment.loc['Female'], left=mf_treatment.loc['Male'], label='Female',color='lightblue')\n",
    "stacked_ax.set_ylabel('Drug Regimen',fontweight='bold')\n",
    "stacked_ax.set_xlabel('Number of Mice', fontweight='bold')\n",
    "stacked_ax.bar_label(male_bars, label_type='center')\n",
    "stacked_ax.bar_label(female_bars, label_type='center')\n",
    "stacked_ax.legend(loc='best', bbox_to_anchor=(1.25, 1))\n",
    "plt.title(\"Sex of Subjects within Groups\", fontweight='bold', fontsize='15')\n",
    "plt.show()"
   ]
  },
  {
   "cell_type": "markdown",
   "metadata": {},
   "source": [
    "## Quartiles, Outliers and Boxplots"
   ]
  },
  {
   "cell_type": "code",
   "execution_count": 17,
   "metadata": {},
   "outputs": [
    {
     "data": {
      "text/html": [
       "<div>\n",
       "<style scoped>\n",
       "    .dataframe tbody tr th:only-of-type {\n",
       "        vertical-align: middle;\n",
       "    }\n",
       "\n",
       "    .dataframe tbody tr th {\n",
       "        vertical-align: top;\n",
       "    }\n",
       "\n",
       "    .dataframe thead th {\n",
       "        text-align: right;\n",
       "    }\n",
       "</style>\n",
       "<table border=\"1\" class=\"dataframe\">\n",
       "  <thead>\n",
       "    <tr style=\"text-align: right;\">\n",
       "      <th></th>\n",
       "      <th>Timepoint</th>\n",
       "      <th>0</th>\n",
       "      <th>5</th>\n",
       "      <th>10</th>\n",
       "      <th>15</th>\n",
       "      <th>20</th>\n",
       "      <th>25</th>\n",
       "      <th>30</th>\n",
       "      <th>35</th>\n",
       "      <th>40</th>\n",
       "      <th>45</th>\n",
       "      <th>final tumor</th>\n",
       "    </tr>\n",
       "    <tr>\n",
       "      <th>Drug Regimen</th>\n",
       "      <th>Mouse ID</th>\n",
       "      <th></th>\n",
       "      <th></th>\n",
       "      <th></th>\n",
       "      <th></th>\n",
       "      <th></th>\n",
       "      <th></th>\n",
       "      <th></th>\n",
       "      <th></th>\n",
       "      <th></th>\n",
       "      <th></th>\n",
       "      <th></th>\n",
       "    </tr>\n",
       "  </thead>\n",
       "  <tbody>\n",
       "    <tr>\n",
       "      <th rowspan=\"5\" valign=\"top\">Zoniferol</th>\n",
       "      <th>q633</th>\n",
       "      <td>45.0</td>\n",
       "      <td>47.183802</td>\n",
       "      <td>49.001866</td>\n",
       "      <td>50.583557</td>\n",
       "      <td>53.287287</td>\n",
       "      <td>55.683102</td>\n",
       "      <td>58.057253</td>\n",
       "      <td>63.125659</td>\n",
       "      <td>68.498639</td>\n",
       "      <td>70.827796</td>\n",
       "      <td>70.827796</td>\n",
       "    </tr>\n",
       "    <tr>\n",
       "      <th>s337</th>\n",
       "      <td>45.0</td>\n",
       "      <td>46.849852</td>\n",
       "      <td>47.894441</td>\n",
       "      <td>48.571516</td>\n",
       "      <td>49.202054</td>\n",
       "      <td>50.970689</td>\n",
       "      <td>52.747718</td>\n",
       "      <td>54.810813</td>\n",
       "      <td>56.994816</td>\n",
       "      <td>62.109651</td>\n",
       "      <td>62.109651</td>\n",
       "    </tr>\n",
       "    <tr>\n",
       "      <th>w140</th>\n",
       "      <td>45.0</td>\n",
       "      <td>47.717952</td>\n",
       "      <td>NaN</td>\n",
       "      <td>NaN</td>\n",
       "      <td>NaN</td>\n",
       "      <td>NaN</td>\n",
       "      <td>NaN</td>\n",
       "      <td>NaN</td>\n",
       "      <td>NaN</td>\n",
       "      <td>NaN</td>\n",
       "      <td>47.717952</td>\n",
       "    </tr>\n",
       "    <tr>\n",
       "      <th>w575</th>\n",
       "      <td>45.0</td>\n",
       "      <td>48.913860</td>\n",
       "      <td>50.135955</td>\n",
       "      <td>50.867452</td>\n",
       "      <td>55.591816</td>\n",
       "      <td>58.587322</td>\n",
       "      <td>60.153065</td>\n",
       "      <td>63.686445</td>\n",
       "      <td>64.938406</td>\n",
       "      <td>68.401286</td>\n",
       "      <td>68.401286</td>\n",
       "    </tr>\n",
       "    <tr>\n",
       "      <th>x613</th>\n",
       "      <td>45.0</td>\n",
       "      <td>46.097041</td>\n",
       "      <td>46.818176</td>\n",
       "      <td>48.077646</td>\n",
       "      <td>NaN</td>\n",
       "      <td>NaN</td>\n",
       "      <td>NaN</td>\n",
       "      <td>NaN</td>\n",
       "      <td>NaN</td>\n",
       "      <td>NaN</td>\n",
       "      <td>48.077646</td>\n",
       "    </tr>\n",
       "  </tbody>\n",
       "</table>\n",
       "</div>"
      ],
      "text/plain": [
       "Timepoint                 0          5         10         15         20  \\\n",
       "Drug Regimen Mouse ID                                                     \n",
       "Zoniferol    q633      45.0  47.183802  49.001866  50.583557  53.287287   \n",
       "             s337      45.0  46.849852  47.894441  48.571516  49.202054   \n",
       "             w140      45.0  47.717952        NaN        NaN        NaN   \n",
       "             w575      45.0  48.913860  50.135955  50.867452  55.591816   \n",
       "             x613      45.0  46.097041  46.818176  48.077646        NaN   \n",
       "\n",
       "Timepoint                     25         30         35         40         45  \\\n",
       "Drug Regimen Mouse ID                                                          \n",
       "Zoniferol    q633      55.683102  58.057253  63.125659  68.498639  70.827796   \n",
       "             s337      50.970689  52.747718  54.810813  56.994816  62.109651   \n",
       "             w140            NaN        NaN        NaN        NaN        NaN   \n",
       "             w575      58.587322  60.153065  63.686445  64.938406  68.401286   \n",
       "             x613            NaN        NaN        NaN        NaN        NaN   \n",
       "\n",
       "Timepoint              final tumor  \n",
       "Drug Regimen Mouse ID               \n",
       "Zoniferol    q633        70.827796  \n",
       "             s337        62.109651  \n",
       "             w140        47.717952  \n",
       "             w575        68.401286  \n",
       "             x613        48.077646  "
      ]
     },
     "execution_count": 17,
     "metadata": {},
     "output_type": "execute_result"
    }
   ],
   "source": [
    "# Calculate the final tumor volume of each mouse across four of the treatment regimens:  \n",
    "# Capomulin, Ramicane, Infubinol, and Ceftamin\n",
    "\n",
    "#I pivot the dataframe to get one which has the tumor volume organized by timepoint and mouseID\n",
    "tumor_time_points = combine.pivot(index=['Drug Regimen','Mouse ID'], columns = 'Timepoint', values = 'Tumor Volume (mm3)')\n",
    "#Store a list for the last time point tumors\n",
    "final_tumors= []\n",
    "#iterate through the dataframe by number rather than index, to avoid complications with my multi-index\n",
    "for i in range(0, len(tumor_time_points)):\n",
    "    #Append to my list the value in each row with the final \"Valid Index\" - a non-Na or blank value\n",
    "    final_tumors.append(tumor_time_points.iloc[i][tumor_time_points.iloc[i].last_valid_index()])\n",
    "final_tumor_points = tumor_time_points.copy()\n",
    "final_tumor_points['final tumor'] = final_tumors\n",
    "final_tumor_points.tail()"
   ]
  },
  {
   "cell_type": "code",
   "execution_count": 18,
   "metadata": {},
   "outputs": [
    {
     "data": {
      "text/html": [
       "<div>\n",
       "<style scoped>\n",
       "    .dataframe tbody tr th:only-of-type {\n",
       "        vertical-align: middle;\n",
       "    }\n",
       "\n",
       "    .dataframe tbody tr th {\n",
       "        vertical-align: top;\n",
       "    }\n",
       "\n",
       "    .dataframe thead th {\n",
       "        text-align: right;\n",
       "    }\n",
       "</style>\n",
       "<table border=\"1\" class=\"dataframe\">\n",
       "  <thead>\n",
       "    <tr style=\"text-align: right;\">\n",
       "      <th></th>\n",
       "      <th>iqr</th>\n",
       "      <th>lower bound</th>\n",
       "      <th>upper bound</th>\n",
       "    </tr>\n",
       "    <tr>\n",
       "      <th>treatment</th>\n",
       "      <th></th>\n",
       "      <th></th>\n",
       "      <th></th>\n",
       "    </tr>\n",
       "  </thead>\n",
       "  <tbody>\n",
       "    <tr>\n",
       "      <th>Capomulin</th>\n",
       "      <td>7.781863</td>\n",
       "      <td>20.704562</td>\n",
       "      <td>51.832015</td>\n",
       "    </tr>\n",
       "    <tr>\n",
       "      <th>Ramicane</th>\n",
       "      <td>9.098537</td>\n",
       "      <td>17.912664</td>\n",
       "      <td>54.306811</td>\n",
       "    </tr>\n",
       "    <tr>\n",
       "      <th>Infubinol</th>\n",
       "      <td>11.477135</td>\n",
       "      <td>36.832905</td>\n",
       "      <td>82.741446</td>\n",
       "    </tr>\n",
       "    <tr>\n",
       "      <th>Ceftamin</th>\n",
       "      <td>15.577752</td>\n",
       "      <td>25.355450</td>\n",
       "      <td>87.666458</td>\n",
       "    </tr>\n",
       "    <tr>\n",
       "      <th>Placebo</th>\n",
       "      <td>15.191386</td>\n",
       "      <td>30.155822</td>\n",
       "      <td>90.921368</td>\n",
       "    </tr>\n",
       "  </tbody>\n",
       "</table>\n",
       "</div>"
      ],
      "text/plain": [
       "                 iqr  lower bound  upper bound\n",
       "treatment                                     \n",
       "Capomulin   7.781863    20.704562    51.832015\n",
       "Ramicane    9.098537    17.912664    54.306811\n",
       "Infubinol  11.477135    36.832905    82.741446\n",
       "Ceftamin   15.577752    25.355450    87.666458\n",
       "Placebo    15.191386    30.155822    90.921368"
      ]
     },
     "execution_count": 18,
     "metadata": {},
     "output_type": "execute_result"
    }
   ],
   "source": [
    "# Put treatments into a list for for loop (and later for plot labels)\n",
    "treatments = ['Capomulin', 'Ramicane', 'Infubinol', 'Ceftamin', 'Placebo']\n",
    "sum_stats = []\n",
    "# Calculate the IQR and quantitatively determine if there are any potential outliers. \n",
    "for treatment in treatments:\n",
    "    # Locate the rows which contain mice on each drug and get the tumor volumes\n",
    "    subset = final_tumor_points.loc[treatment]['final tumor']\n",
    "    #establish quartiles for the data, as well as an interquartile range.\n",
    "    quartiles = subset.quantile([0.25, 0.5, 0.75])\n",
    "    iqr = quartiles[0.75]-quartiles[0.25]\n",
    "    # Determine outliers using upper and lower bounds\n",
    "    lower_bound = quartiles[0.25] - 1.5*iqr\n",
    "    upper_bound = quartiles[0.75] + 1.5*iqr\n",
    "    #make a summary dict, which I append into my summary stats.\n",
    "    sum_dict = {'treatment': treatment,\n",
    "                'iqr' : iqr,\n",
    "                'lower bound': lower_bound,\n",
    "                'upper bound': upper_bound\n",
    "               }\n",
    "    sum_stats.append(sum_dict)\n",
    "stats_df = pd.DataFrame(data=sum_stats).set_index('treatment')\n",
    "stats_df"
   ]
  },
  {
   "cell_type": "code",
   "execution_count": 40,
   "metadata": {},
   "outputs": [
    {
     "data": {
      "image/png": "[encoded data removed]",
      "text/plain": [
       "<Figure size 432x288 with 1 Axes>"
      ]
     },
     "metadata": {
      "needs_background": "light"
     },
     "output_type": "display_data"
    }
   ],
   "source": [
    "#Generate a box plot of the final tumor volume of each mouse across four regimens of interest\n",
    "#generate a box_plot parsable formatting of the four test cases\n",
    "treatments = ['Capomulin', 'Ramicane', 'Infubinol', 'Ceftamin', 'Placebo']\n",
    "data = [final_tumor_points.loc[treatment]['final tumor'] for treatment in treatments]\n",
    "#colors to set across the different groups\n",
    "#colors = ['aquamarine', 'xkcd:salmon', 'xkcd:tea', 'xkcd:mustard', 'yellow']\n",
    "norm= matplotlib.colors.Normalize(vmin=0, vmax=len(treatments))\n",
    "colors = cm.ScalarMappable(cmap = 'plasma', norm=norm)\n",
    "#general outline param to pass to different figure elements\n",
    "outline= {'linewidth':2}\n",
    "#Iterator to select colors from my colors array\n",
    "icounter=0\n",
    "#custom dict to define how the outlier should look\n",
    "flierprops=dict(marker='o', markerfacecolor='red', markersize=12, markeredgewidth=1.5)\n",
    "#generate new subplot\n",
    "tv_fig, tv_ax = plt.subplots()\n",
    "tv_ax.set_title('Final Tumor Volume', fontweight='bold', fontsize='15')\n",
    "#change the color of the background of the plot.\n",
    "tv_ax.set_facecolor('#FAFAFA')\n",
    "boxes = tv_ax.boxplot(data, \n",
    "                      #patch artist allows me to manually control the facecolor of the boxes, assigning them the colors in my earlier array)\n",
    "                      patch_artist = True, \n",
    "                      medianprops={'color':'black', 'linewidth':1.5}, flierprops=flierprops, boxprops=outline, whiskerprops=outline, capprops=outline)\n",
    "#change colors of the boxes\n",
    "for box in boxes['boxes']:\n",
    "    box.set(facecolor = colors.to_rgba(icounter), linewidth=2)\n",
    "    icounter +=1\n",
    "#Set a custom legend with text color used to match with blocks\n",
    "tv_ax.legend(loc='best', labels=treatments, labelcolor= [colors.to_rgba(col_count) for col_count in range(icounter)], facecolor='grey', framealpha=0.7, handlelength = .1, fontsize=10, prop={'weight':'semibold'})\n",
    "plt.show()"
   ]
  },
  {
   "cell_type": "markdown",
   "metadata": {},
   "source": [
    "### Generate a plot with boxes from every group for reference."
   ]
  },
  {
   "cell_type": "code",
   "execution_count": null,
   "metadata": {},
   "outputs": [],
   "source": [
    "#Generate a box plot of the final tumor volume of each mouse across four regimens of interest\n",
    "#generate a box_plot parsable formatting of the four test cases\n",
    "all_treatments=combine['Drug Regimen'].unique()\n",
    "data = [final_tumor_points.loc[treatment]['final tumor'] for treatment in all_treatments]\n",
    "#initialize a counter for synchronizeing color\n",
    "icounter=0\n",
    "#colors to set across the different groups\n",
    "norm= matplotlib.colors.Normalize(vmin=0, vmax=len(treatments))\n",
    "colors = cm.ScalarMappable(cmap = 'plasma', norm=norm)\n",
    "#general outline param to pass to different figure elements\n",
    "outline= {'linewidth':2}\n",
    "#custom dict to define how the outlier should look\n",
    "flierprops=dict(marker='o', markerfacecolor='red', markersize=12, markeredgewidth=1.5)\n",
    "#generate new subplot\n",
    "tv_fig, tv_ax = plt.subplots(figsize=(10,6))\n",
    "tv_ax.set_title('Final Tumor Volume', fontweight='bold', fontsize='15')\n",
    "#change the color of the background of the plot.\n",
    "tv_ax.set_facecolor('#FAFAFA')\n",
    "boxes = tv_ax.boxplot(data, \n",
    "                      #patch artist allows me to manually control the facecolor of the boxes, assigning them the colors in my earlier array)\n",
    "                      patch_artist = True, \n",
    "                      medianprops={'color':'black', 'linewidth':1.5}, flierprops=flierprops, boxprops=outline, whiskerprops=outline, capprops=outline)\n",
    "#change colors of the boxes\n",
    "for box in boxes['boxes']:\n",
    "    box.set(facecolor = colors[icounter], linewidth=2)\n",
    "    icounter +=1\n",
    "#Set a custom legend with text color used to match with blocks\n",
    "tv_ax.legend(loc='best', labels=treatments, labelcolor= colors, facecolor='black', framealpha=0.7, handlelength = .1, fontsize=10, prop={'weight':'semibold'}, bbox_to_anchor=(1.2, 1))\n",
    "plt.show()"
   ]
  },
  {
   "cell_type": "markdown",
   "metadata": {},
   "source": [
    "## Line and Scatter Plots"
   ]
  },
  {
   "cell_type": "code",
   "execution_count": null,
   "metadata": {},
   "outputs": [],
   "source": [
    "# Generate a line plot of tumor volume vs. time point for a mouse treated with Capomulin\n",
    "fig, ax = plt.subplots()\n",
    "ax.plot(tumor_time_points.loc['Capomulin'].iloc[0])\n",
    "ax.set_title('Tumor size of a subject treated with Capomulin')\n",
    "ax.set_ylabel('Tumor Size(mm3)')\n",
    "plt.show()"
   ]
  },
  {
   "cell_type": "code",
   "execution_count": null,
   "metadata": {},
   "outputs": [],
   "source": [
    "#As a bonus, I create a lineplot for all subjects in my groups of interest\n",
    "m_fig, m_ax = plt.subplots(figsize=(10,8))\n",
    "colit = 0\n",
    "colors = ['purple', 'xkcd:white', 'xkcd:black', 'xkcd:red', 'yellow']\n",
    "m_ax.set_facecolor('darkgrey')\n",
    "m_ax.set_title('Tumor Growth Over Time', fontweight='bold')\n",
    "m_ax.set_ylabel('Tumor Size(mm3)')\n",
    "m_ax.set_xlabel('Timepoint (days)')\n",
    "#Make a line plot for each mouse in treatment groups. As I iterate across my groups of interest, I change the colors using colit.\n",
    "for treatment in treatments:\n",
    "    for timepoints, mouse in tumor_time_points.loc[treatment].iterrows():\n",
    "        m_ax.plot(mouse, colors[colit], alpha = 0.7)\n",
    "    colit += 1\n",
    "m_ax.legend(loc='best', labels=treatments, labelcolor= colors, facecolor='black', framealpha=0.3, handlelength = .1, fontsize=10, prop={'weight':'semibold'})\n",
    "\n",
    "plt.show()"
   ]
  },
  {
   "cell_type": "code",
   "execution_count": null,
   "metadata": {},
   "outputs": [],
   "source": [
    "# Generate a scatter plot of average tumor volume vs. mouse weight for the Capomulin regimen\n",
    "cap_av_weight_tumor = combine.set_index('Drug Regimen').loc['Capomulin'].groupby('Mouse ID').mean()[['Weight (g)', 'Tumor Volume (mm3)']]\n",
    "#Could also subset like this, but I prefer set index for legibility and iterability. \n",
    "#capomulin = combine.loc[combine['Drug Regimen']== 'Capomulin']\n",
    "sfig, sax = plt.subplots()\n",
    "sax.scatter(cap_av_weight_tumor['Weight (g)'], cap_av_weight_tumor['Tumor Volume (mm3)'])\n",
    "sax.set_title(\"Average Weight vs Tumor Size for the Capomulin group\")\n",
    "sax.set_ylabel('Tumor Volume(mm3)')\n",
    "sax.set_xlabel('Weight (g)')\n",
    "plt.show()"
   ]
  },
  {
   "cell_type": "markdown",
   "metadata": {},
   "source": [
    "## Correlation and Regression"
   ]
  },
  {
   "cell_type": "code",
   "execution_count": null,
   "metadata": {},
   "outputs": [],
   "source": [
    "#Calculate the correlation coefficient\n",
    "correlation = st.pearsonr(cap_av_weight_tumor['Weight (g)'], cap_av_weight_tumor['Tumor Volume (mm3)'])\n",
    "print(f'The correlation between Weight and Tumor Volume is {round(correlation[0], 2)} with a p value of {round(correlation[1], 8)}')"
   ]
  },
  {
   "cell_type": "code",
   "execution_count": null,
   "metadata": {},
   "outputs": [],
   "source": [
    "#  linear regression model \n",
    "# for mouse weight and average tumor volume for the Capomulin regimen\n",
    "s_slope, s_int, s_r, s_p, s_std_err = st.linregress(cap_av_weight_tumor['Weight (g)'], cap_av_weight_tumor['Tumor Volume (mm3)'])\n",
    "s_fit = s_slope * cap_av_weight_tumor['Weight (g)'] + s_int\n",
    "\n",
    "sfig, sax = plt.subplots()\n",
    "sax.scatter(cap_av_weight_tumor['Weight (g)'], cap_av_weight_tumor['Tumor Volume (mm3)'])\n",
    "sax.plot(cap_av_weight_tumor['Weight (g)'], s_fit, '--', color = 'lightblue')\n",
    "sax.set_title(\"Average Weight vs Tumor Size for the Capomulin group\")\n",
    "sax.set_ylabel('Tumor Volume(mm3)')\n",
    "sax.set_xlabel('Weight (g)')\n",
    "plt.show()"
   ]
  },
  {
   "cell_type": "markdown",
   "metadata": {},
   "source": [
    "### Male vs Female"
   ]
  },
  {
   "cell_type": "code",
   "execution_count": null,
   "metadata": {},
   "outputs": [],
   "source": [
    "combine.groupby('Sex').mean()[['Weight (g)','Tumor Volume (mm3)']]"
   ]
  },
  {
   "cell_type": "code",
   "execution_count": null,
   "metadata": {},
   "outputs": [],
   "source": []
  }
 ],
 "metadata": {
  "anaconda-cloud": {},
  "kernelspec": {
   "display_name": "Python 3",
   "language": "python",
   "name": "python3"
  },
  "language_info": {
   "codemirror_mode": {
    "name": "ipython",
    "version": 3
   },
   "file_extension": ".py",
   "mimetype": "text/x-python",
   "name": "python",
   "nbconvert_exporter": "python",
   "pygments_lexer": "ipython3",
   "version": "3.8.8"
  }
 },
 "nbformat": 4,
 "nbformat_minor": 4
}
